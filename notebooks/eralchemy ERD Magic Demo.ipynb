{
 "cells": [
  {
   "cell_type": "markdown",
   "metadata": {},
   "source": [
    "# `eralchemy` ERD Magic Demo\n",
    "\n",
    "Installation of modified form of `eralchmey` that uses crows foot ERD generator and straight line edge relationships:\n",
    "\n",
    "`pip install --upgrade --no-deps git+https://github.com/psychemedia/eralchemy.git`\n",
    "\n",
    "\n",
    "IPython magic that uses whatever `eralchemy` package you have installed (I think! Only tested with package above.)\n",
    "\n",
    "`pip install --upgrade --no-deps git+https://github.com/innovationOUtside/ipython_magic_eralchemy.git`\n",
    "\n",
    "Demo also uses: `ipython-sql`\n"
   ]
  },
  {
   "cell_type": "code",
   "execution_count": 5,
   "metadata": {},
   "outputs": [
    {
     "name": "stdout",
     "output_type": "stream",
     "text": [
      "The eralchemy_magic extension is already loaded. To reload it, use:\n",
      "  %reload_ext eralchemy_magic\n"
     ]
    }
   ],
   "source": [
    "%load_ext sql\n",
    "%load_ext eralchemy_magic"
   ]
  },
  {
   "cell_type": "code",
   "execution_count": 6,
   "metadata": {},
   "outputs": [
    {
     "name": "stdout",
     "output_type": "stream",
     "text": [
      "Done.\n",
      "Done.\n",
      "Done.\n",
      "Done.\n",
      "Done.\n",
      "Done.\n",
      "Done.\n",
      "Done.\n"
     ]
    },
    {
     "data": {
      "text/plain": [
       "[]"
      ]
     },
     "execution_count": 6,
     "metadata": {},
     "output_type": "execute_result"
    }
   ],
   "source": [
    "%%sql sqlite:///amagicdemo.db\n",
    "DROP TABLE IF EXISTS \"table1\";\n",
    "DROP TABLE IF EXISTS \"table2\";\n",
    "DROP TABLE IF EXISTS \"table3\";\n",
    "DROP TABLE IF EXISTS \"table4\";\n",
    "\n",
    "CREATE TABLE \"table1\" (\n",
    "  \"col1\" TEXT NOT NULL UNIQUE PRIMARY KEY,\n",
    "  \"col2\" INTEGER,\n",
    "  \"col3\" TEXT);\n",
    "\n",
    "CREATE TABLE \"table2\" (\n",
    "  \"col1\" TEXT,\n",
    "  \"col2\" INTEGER NOT NULL UNIQUE PRIMARY KEY,\n",
    "  \"col3\" TEXT,\n",
    "  FOREIGN KEY (\"col1\") REFERENCES \"table1\" (\"col1\"));\n",
    "\n",
    "CREATE TABLE \"table3\" (\n",
    "  \"col1\" TEXT,\n",
    "  \"col2\" INTEGER NOT NULL,\n",
    "  \"col3\" TEXT NOT NULL UNIQUE PRIMARY KEY,\n",
    "  FOREIGN KEY (\"col2\") REFERENCES \"table1\" (\"col2\"));\n",
    "\n",
    "CREATE TABLE \"table4\" (\n",
    "  \"col1\" TEXT,\n",
    "  \"col2\" INTEGER,\n",
    "  \"col3\" TEXT NOT NULL UNIQUE PRIMARY KEY,\n",
    "  FOREIGN KEY (\"col1\") REFERENCES \"table2\" (\"col1\"),\n",
    "  FOREIGN KEY (\"col3\") REFERENCES \"table1\" (\"col3\"));"
   ]
  },
  {
   "cell_type": "code",
   "execution_count": 7,
   "metadata": {},
   "outputs": [
    {
     "data": {
      "image/svg+xml": [
       "<svg height=\"280pt\" viewBox=\"0.00 0.00 481.00 280.00\" width=\"481pt\" xmlns=\"http://www.w3.org/2000/svg\" xmlns:xlink=\"http://www.w3.org/1999/xlink\">\n",
       "<g class=\"graph\" id=\"graph0\" transform=\"scale(1 1) rotate(0) translate(4 276)\">\n",
       "<title>%3</title>\n",
       "<polygon fill=\"#ffffff\" points=\"-4,4 -4,-276 477,-276 477,4 -4,4\" stroke=\"transparent\"/>\n",
       "<!-- table1 -->\n",
       "<g class=\"node\" id=\"node1\">\n",
       "<title>table1</title>\n",
       "<polygon fill=\"none\" points=\".5,-130 .5,-156 109.5,-156 109.5,-130 .5,-130\" stroke=\"#000000\"/>\n",
       "<text fill=\"#000000\" font-family=\"Helvetica,sans-Serif\" font-size=\"16.00\" font-weight=\"bold\" text-anchor=\"start\" x=\"33.2031\" y=\"-139.2\">table1</text>\n",
       "<polygon fill=\"none\" points=\".5,-106 .5,-130 109.5,-130 109.5,-106 .5,-106\" stroke=\"#000000\"/>\n",
       "<text fill=\"#000000\" font-family=\"Helvetica,sans-Serif\" font-size=\"14.00\" text-anchor=\"start\" text-decoration=\"underline\" x=\"5.5\" y=\"-114.8\">col1</text>\n",
       "<text fill=\"#000000\" font-family=\"Helvetica,sans-Serif\" font-size=\"14.00\" text-anchor=\"start\" x=\"31.1826\" y=\"-114.8\"> [TEXT]</text>\n",
       "<polygon fill=\"none\" points=\".5,-82 .5,-106 109.5,-106 109.5,-82 .5,-82\" stroke=\"#000000\"/>\n",
       "<text fill=\"#000000\" font-family=\"Helvetica,sans-Serif\" font-size=\"14.00\" text-anchor=\"start\" x=\"5.2104\" y=\"-90.8\">col2</text>\n",
       "<text fill=\"#000000\" font-family=\"Helvetica,sans-Serif\" font-size=\"14.00\" text-anchor=\"start\" x=\"30.8931\" y=\"-90.8\"> [INTEGER]</text>\n",
       "<polygon fill=\"none\" points=\".5,-58 .5,-82 109.5,-82 109.5,-58 .5,-58\" stroke=\"#000000\"/>\n",
       "<text fill=\"#000000\" font-family=\"Helvetica,sans-Serif\" font-size=\"14.00\" text-anchor=\"start\" x=\"5.5\" y=\"-66.8\">col3</text>\n",
       "<text fill=\"#000000\" font-family=\"Helvetica,sans-Serif\" font-size=\"14.00\" text-anchor=\"start\" x=\"31.1826\" y=\"-66.8\"> [TEXT]</text>\n",
       "</g>\n",
       "<!-- table2 -->\n",
       "<g class=\"node\" id=\"node2\">\n",
       "<title>table2</title>\n",
       "<polygon fill=\"none\" points=\"182.5,-246 182.5,-272 291.5,-272 291.5,-246 182.5,-246\" stroke=\"#000000\"/>\n",
       "<text fill=\"#000000\" font-family=\"Helvetica,sans-Serif\" font-size=\"16.00\" font-weight=\"bold\" text-anchor=\"start\" x=\"215.2031\" y=\"-255.2\">table2</text>\n",
       "<polygon fill=\"none\" points=\"182.5,-222 182.5,-246 291.5,-246 291.5,-222 182.5,-222\" stroke=\"#000000\"/>\n",
       "<text fill=\"#000000\" font-family=\"Helvetica,sans-Serif\" font-size=\"14.00\" text-anchor=\"start\" x=\"187.5\" y=\"-230.8\">col1</text>\n",
       "<text fill=\"#000000\" font-family=\"Helvetica,sans-Serif\" font-size=\"14.00\" text-anchor=\"start\" x=\"213.1826\" y=\"-230.8\"> [TEXT]</text>\n",
       "<polygon fill=\"none\" points=\"182.5,-198 182.5,-222 291.5,-222 291.5,-198 182.5,-198\" stroke=\"#000000\"/>\n",
       "<text fill=\"#000000\" font-family=\"Helvetica,sans-Serif\" font-size=\"14.00\" text-anchor=\"start\" text-decoration=\"underline\" x=\"187.2104\" y=\"-206.8\">col2</text>\n",
       "<text fill=\"#000000\" font-family=\"Helvetica,sans-Serif\" font-size=\"14.00\" text-anchor=\"start\" x=\"212.8931\" y=\"-206.8\"> [INTEGER]</text>\n",
       "<polygon fill=\"none\" points=\"182.5,-174 182.5,-198 291.5,-198 291.5,-174 182.5,-174\" stroke=\"#000000\"/>\n",
       "<text fill=\"#000000\" font-family=\"Helvetica,sans-Serif\" font-size=\"14.00\" text-anchor=\"start\" x=\"187.5\" y=\"-182.8\">col3</text>\n",
       "<text fill=\"#000000\" font-family=\"Helvetica,sans-Serif\" font-size=\"14.00\" text-anchor=\"start\" x=\"213.1826\" y=\"-182.8\"> [TEXT]</text>\n",
       "</g>\n",
       "<!-- table1&#45;&gt;table2 -->\n",
       "<g class=\"edge\" id=\"edge1\">\n",
       "<title>table1-&gt;table2</title>\n",
       "<path d=\"M55,-169.1944C55,-169.1944 55,-223 55,-223 55,-223 163.5515,-223 163.5515,-223\" fill=\"none\" stroke=\"#7f7f7f\"/>\n",
       "<ellipse cx=\"55\" cy=\"-160.1944\" fill=\"none\" rx=\"4\" ry=\"4\" stroke=\"#7f7f7f\"/>\n",
       "<polygon fill=\"#7f7f7f\" points=\"50.0001,-165.1945 60.0001,-165.1944 60.0001,-167.1944 50.0001,-167.1945 50.0001,-165.1945\" stroke=\"#7f7f7f\"/>\n",
       "<polyline fill=\"none\" points=\"55.0001,-164.1944 55.0001,-169.1944 \" stroke=\"#7f7f7f\"/>\n",
       "<polygon fill=\"#7f7f7f\" points=\"171.5515,-223.0001 181.5515,-227.5 176.5515,-223 181.5515,-223 181.5515,-223 181.5515,-223 176.5515,-223 181.5514,-218.5 171.5515,-223.0001 171.5515,-223.0001\" stroke=\"#7f7f7f\"/>\n",
       "<ellipse cx=\"167.5515\" cy=\"-223.0001\" fill=\"none\" rx=\"4\" ry=\"4\" stroke=\"#7f7f7f\"/>\n",
       "</g>\n",
       "<!-- table3 -->\n",
       "<g class=\"node\" id=\"node3\">\n",
       "<title>table3</title>\n",
       "<polygon fill=\"none\" points=\"182.5,-130 182.5,-156 291.5,-156 291.5,-130 182.5,-130\" stroke=\"#000000\"/>\n",
       "<text fill=\"#000000\" font-family=\"Helvetica,sans-Serif\" font-size=\"16.00\" font-weight=\"bold\" text-anchor=\"start\" x=\"215.2031\" y=\"-139.2\">table3</text>\n",
       "<polygon fill=\"none\" points=\"182.5,-106 182.5,-130 291.5,-130 291.5,-106 182.5,-106\" stroke=\"#000000\"/>\n",
       "<text fill=\"#000000\" font-family=\"Helvetica,sans-Serif\" font-size=\"14.00\" text-anchor=\"start\" x=\"187.5\" y=\"-114.8\">col1</text>\n",
       "<text fill=\"#000000\" font-family=\"Helvetica,sans-Serif\" font-size=\"14.00\" text-anchor=\"start\" x=\"213.1826\" y=\"-114.8\"> [TEXT]</text>\n",
       "<polygon fill=\"none\" points=\"182.5,-82 182.5,-106 291.5,-106 291.5,-82 182.5,-82\" stroke=\"#000000\"/>\n",
       "<text fill=\"#000000\" font-family=\"Helvetica,sans-Serif\" font-size=\"14.00\" text-anchor=\"start\" x=\"187.2104\" y=\"-90.8\">col2</text>\n",
       "<text fill=\"#000000\" font-family=\"Helvetica,sans-Serif\" font-size=\"14.00\" text-anchor=\"start\" x=\"212.8931\" y=\"-90.8\"> [INTEGER]</text>\n",
       "<polygon fill=\"none\" points=\"182.5,-58 182.5,-82 291.5,-82 291.5,-58 182.5,-58\" stroke=\"#000000\"/>\n",
       "<text fill=\"#000000\" font-family=\"Helvetica,sans-Serif\" font-size=\"14.00\" text-anchor=\"start\" text-decoration=\"underline\" x=\"187.5\" y=\"-66.8\">col3</text>\n",
       "<text fill=\"#000000\" font-family=\"Helvetica,sans-Serif\" font-size=\"14.00\" text-anchor=\"start\" x=\"213.1826\" y=\"-66.8\"> [TEXT]</text>\n",
       "</g>\n",
       "<!-- table1&#45;&gt;table3 -->\n",
       "<g class=\"edge\" id=\"edge2\">\n",
       "<title>table1-&gt;table3</title>\n",
       "<path d=\"M122.106,-107C122.106,-107 163.9325,-107 163.9325,-107\" fill=\"none\" stroke=\"#7f7f7f\"/>\n",
       "<ellipse cx=\"177.9325\" cy=\"-107\" fill=\"none\" rx=\"4\" ry=\"4\" stroke=\"#7f7f7f\"/>\n",
       "<polygon fill=\"#7f7f7f\" points=\"172.9325,-102 172.9325,-112 170.9325,-112 170.9325,-102 172.9325,-102\" stroke=\"#7f7f7f\"/>\n",
       "<polyline fill=\"none\" points=\"173.9325,-107 168.9325,-107 \" stroke=\"#7f7f7f\"/>\n",
       "<polygon fill=\"#7f7f7f\" points=\"119.106,-107 109.106,-102.5 114.106,-107 109.106,-107 109.106,-107 109.106,-107 114.106,-107 109.106,-111.5 119.106,-107 119.106,-107\" stroke=\"#7f7f7f\"/>\n",
       "<ellipse cx=\"123.106\" cy=\"-107\" fill=\"none\" rx=\"4\" ry=\"4\" stroke=\"#7f7f7f\"/>\n",
       "</g>\n",
       "<!-- table4 -->\n",
       "<g class=\"node\" id=\"node4\">\n",
       "<title>table4</title>\n",
       "<polygon fill=\"none\" points=\"364.5,-72 364.5,-98 473.5,-98 473.5,-72 364.5,-72\" stroke=\"#000000\"/>\n",
       "<text fill=\"#000000\" font-family=\"Helvetica,sans-Serif\" font-size=\"16.00\" font-weight=\"bold\" text-anchor=\"start\" x=\"397.2031\" y=\"-81.2\">table4</text>\n",
       "<polygon fill=\"none\" points=\"364.5,-48 364.5,-72 473.5,-72 473.5,-48 364.5,-48\" stroke=\"#000000\"/>\n",
       "<text fill=\"#000000\" font-family=\"Helvetica,sans-Serif\" font-size=\"14.00\" text-anchor=\"start\" x=\"369.5\" y=\"-56.8\">col1</text>\n",
       "<text fill=\"#000000\" font-family=\"Helvetica,sans-Serif\" font-size=\"14.00\" text-anchor=\"start\" x=\"395.1826\" y=\"-56.8\"> [TEXT]</text>\n",
       "<polygon fill=\"none\" points=\"364.5,-24 364.5,-48 473.5,-48 473.5,-24 364.5,-24\" stroke=\"#000000\"/>\n",
       "<text fill=\"#000000\" font-family=\"Helvetica,sans-Serif\" font-size=\"14.00\" text-anchor=\"start\" x=\"369.2104\" y=\"-32.8\">col2</text>\n",
       "<text fill=\"#000000\" font-family=\"Helvetica,sans-Serif\" font-size=\"14.00\" text-anchor=\"start\" x=\"394.8931\" y=\"-32.8\"> [INTEGER]</text>\n",
       "<polygon fill=\"none\" points=\"364.5,0 364.5,-24 473.5,-24 473.5,0 364.5,0\" stroke=\"#000000\"/>\n",
       "<text fill=\"#000000\" font-family=\"Helvetica,sans-Serif\" font-size=\"14.00\" text-anchor=\"start\" text-decoration=\"underline\" x=\"369.5\" y=\"-8.8\">col3</text>\n",
       "<text fill=\"#000000\" font-family=\"Helvetica,sans-Serif\" font-size=\"14.00\" text-anchor=\"start\" x=\"395.1826\" y=\"-8.8\"> [TEXT]</text>\n",
       "</g>\n",
       "<!-- table1&#45;&gt;table4 -->\n",
       "<g class=\"edge\" id=\"edge3\">\n",
       "<title>table1-&gt;table4</title>\n",
       "<path d=\"M55,-44.6014C55,-44.6014 55,-29 55,-29 55,-29 345.6868,-29 345.6868,-29\" fill=\"none\" stroke=\"#7f7f7f\"/>\n",
       "<ellipse cx=\"55\" cy=\"-53.6014\" fill=\"none\" rx=\"4\" ry=\"4\" stroke=\"#7f7f7f\"/>\n",
       "<polygon fill=\"#7f7f7f\" points=\"60.0001,-48.6015 50.0001,-48.6014 50.0001,-46.6014 60.0001,-46.6015 60.0001,-48.6015\" stroke=\"#7f7f7f\"/>\n",
       "<polyline fill=\"none\" points=\"55.0001,-49.6014 55.0001,-44.6014 \" stroke=\"#7f7f7f\"/>\n",
       "<polygon fill=\"#7f7f7f\" points=\"353.6868,-29.0001 363.6868,-33.5 358.6868,-29 363.6868,-29 363.6868,-29 363.6868,-29 358.6868,-29 363.6868,-24.5 353.6868,-29.0001 353.6868,-29.0001\" stroke=\"#7f7f7f\"/>\n",
       "<ellipse cx=\"349.6868\" cy=\"-29.0001\" fill=\"none\" rx=\"4\" ry=\"4\" stroke=\"#7f7f7f\"/>\n",
       "</g>\n",
       "<!-- table2&#45;&gt;table4 -->\n",
       "<g class=\"edge\" id=\"edge4\">\n",
       "<title>table2-&gt;table4</title>\n",
       "<path d=\"M304.256,-223C304.256,-223 419,-223 419,-223 419,-223 419,-116.396 419,-116.396\" fill=\"none\" stroke=\"#7f7f7f\"/>\n",
       "<ellipse cx=\"295.256\" cy=\"-223\" fill=\"none\" rx=\"4\" ry=\"4\" stroke=\"#7f7f7f\"/>\n",
       "<polygon fill=\"#7f7f7f\" points=\"300.256,-228.0001 300.2561,-218.0001 302.2561,-218.0001 302.256,-228.0001 300.256,-228.0001\" stroke=\"#7f7f7f\"/>\n",
       "<polyline fill=\"none\" points=\"299.256,-223.0001 304.256,-223.0001 \" stroke=\"#7f7f7f\"/>\n",
       "<polygon fill=\"#7f7f7f\" points=\"419.0001,-108.396 423.5,-98.396 419,-103.396 419,-98.396 419,-98.396 419,-98.396 419,-103.396 414.5,-98.396 419.0001,-108.396 419.0001,-108.396\" stroke=\"#7f7f7f\"/>\n",
       "<ellipse cx=\"419.0001\" cy=\"-112.396\" fill=\"none\" rx=\"4\" ry=\"4\" stroke=\"#7f7f7f\"/>\n",
       "</g>\n",
       "</g>\n",
       "</svg>"
      ],
      "text/plain": [
       "<IPython.core.display.SVG object>"
      ]
     },
     "execution_count": 7,
     "metadata": {},
     "output_type": "execute_result"
    }
   ],
   "source": [
    "%erd --connection_string sqlite:///amagicdemo.db"
   ]
  },
  {
   "cell_type": "markdown",
   "metadata": {},
   "source": [
    "I don't think entity relationship cardinalities are correctly mapped in `eralchemy`. The setting seems hardwired based purely on the existence of a foreign key relationship ([issue](https://github.com/Alexis-benoist/eralchemy/blob/40c9b9c8199e9740695931d48a6f90f9846fd5d8/eralchemy/sqla.py)).\n",
    "\n",
    "One for the \"to do\" list...\n",
    "\n",
    "There also look to be indesired line breaks in the rendering - not sure how to fix those?"
   ]
  },
  {
   "cell_type": "code",
   "execution_count": null,
   "metadata": {},
   "outputs": [],
   "source": []
  }
 ],
 "metadata": {
  "kernelspec": {
   "display_name": "Python 3",
   "language": "python",
   "name": "python3"
  },
  "language_info": {
   "codemirror_mode": {
    "name": "ipython",
    "version": 3
   },
   "file_extension": ".py",
   "mimetype": "text/x-python",
   "name": "python",
   "nbconvert_exporter": "python",
   "pygments_lexer": "ipython3",
   "version": "3.6.4"
  }
 },
 "nbformat": 4,
 "nbformat_minor": 2
}
