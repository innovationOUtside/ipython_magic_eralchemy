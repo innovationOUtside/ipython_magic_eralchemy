{
 "cells": [
  {
   "cell_type": "markdown",
   "metadata": {},
   "source": [
    "# `eralchemy` ERD Magic Demo\n",
    "\n",
    "Installation of modified form of `eralchmey` that uses crows foot ERD generator and straight line edge relationships:\n",
    "\n",
    "`pip install --upgrade --no-deps git+https://github.com/psychemedia/eralchemy.git`\n",
    "\n",
    "\n",
    "IPython magic that uses whatever `eralchemy` package you have installed (I think! Only tested with package above.)\n",
    "\n",
    "`pip install --upgrade --no-deps git+https://github.com/innovationOUtside/ipython_magic_eralchemy.git`\n",
    "\n",
    "Demo also uses: `ipython-sql`\n"
   ]
  },
  {
   "cell_type": "code",
   "execution_count": 1,
   "metadata": {},
   "outputs": [
    {
     "name": "stdout",
     "output_type": "stream",
     "text": [
      "Collecting git+https://github.com/psychemedia/eralchemy.git\n",
      "  Cloning https://github.com/psychemedia/eralchemy.git to /private/var/folders/ln/tnrpmq9j11v2d5hlpt3xp204fq_q2t/T/pip-mvzh17d3-build\n",
      "Installing collected packages: ERAlchemy\n",
      "  Found existing installation: ERAlchemy 1.1.0\n",
      "    Uninstalling ERAlchemy-1.1.0:\n",
      "      Successfully uninstalled ERAlchemy-1.1.0\n",
      "  Running setup.py install for ERAlchemy ... \u001b[?25ldone\n",
      "\u001b[?25hSuccessfully installed ERAlchemy-1.1.0\n"
     ]
    }
   ],
   "source": [
    "!pip3 install --upgrade --no-deps git+https://github.com/psychemedia/eralchemy.git\n"
   ]
  },
  {
   "cell_type": "code",
   "execution_count": 3,
   "metadata": {},
   "outputs": [
    {
     "ename": "SyntaxError",
     "evalue": "invalid syntax (eralchemy.py, line 33)",
     "output_type": "error",
     "traceback": [
      "Traceback \u001b[0;36m(most recent call last)\u001b[0m:\n",
      "  File \u001b[1;32m\"/Library/Frameworks/Python.framework/Versions/3.6/lib/python3.6/site-packages/IPython/core/interactiveshell.py\"\u001b[0m, line \u001b[1;32m2910\u001b[0m, in \u001b[1;35mrun_code\u001b[0m\n    exec(code_obj, self.user_global_ns, self.user_ns)\n",
      "  File \u001b[1;32m\"<ipython-input-3-d1a63aa77f04>\"\u001b[0m, line \u001b[1;32m2\u001b[0m, in \u001b[1;35m<module>\u001b[0m\n    get_ipython().run_line_magic('load_ext', 'eralchemy_magic')\n",
      "  File \u001b[1;32m\"/Library/Frameworks/Python.framework/Versions/3.6/lib/python3.6/site-packages/IPython/core/interactiveshell.py\"\u001b[0m, line \u001b[1;32m2095\u001b[0m, in \u001b[1;35mrun_line_magic\u001b[0m\n    result = fn(*args,**kwargs)\n",
      "  File \u001b[1;32m\"<decorator-gen-65>\"\u001b[0m, line \u001b[1;32m2\u001b[0m, in \u001b[1;35mload_ext\u001b[0m\n",
      "  File \u001b[1;32m\"/Library/Frameworks/Python.framework/Versions/3.6/lib/python3.6/site-packages/IPython/core/magic.py\"\u001b[0m, line \u001b[1;32m187\u001b[0m, in \u001b[1;35m<lambda>\u001b[0m\n    call = lambda f, *a, **k: f(*a, **k)\n",
      "  File \u001b[1;32m\"/Library/Frameworks/Python.framework/Versions/3.6/lib/python3.6/site-packages/IPython/core/magics/extension.py\"\u001b[0m, line \u001b[1;32m33\u001b[0m, in \u001b[1;35mload_ext\u001b[0m\n    res = self.shell.extension_manager.load_extension(module_str)\n",
      "  File \u001b[1;32m\"/Library/Frameworks/Python.framework/Versions/3.6/lib/python3.6/site-packages/IPython/core/extensions.py\"\u001b[0m, line \u001b[1;32m85\u001b[0m, in \u001b[1;35mload_extension\u001b[0m\n    mod = import_module(module_str)\n",
      "  File \u001b[1;32m\"/Library/Frameworks/Python.framework/Versions/3.6/lib/python3.6/importlib/__init__.py\"\u001b[0m, line \u001b[1;32m126\u001b[0m, in \u001b[1;35mimport_module\u001b[0m\n    return _bootstrap._gcd_import(name[level:], package, level)\n",
      "  File \u001b[1;32m\"<frozen importlib._bootstrap>\"\u001b[0m, line \u001b[1;32m994\u001b[0m, in \u001b[1;35m_gcd_import\u001b[0m\n",
      "  File \u001b[1;32m\"<frozen importlib._bootstrap>\"\u001b[0m, line \u001b[1;32m971\u001b[0m, in \u001b[1;35m_find_and_load\u001b[0m\n",
      "  File \u001b[1;32m\"<frozen importlib._bootstrap>\"\u001b[0m, line \u001b[1;32m955\u001b[0m, in \u001b[1;35m_find_and_load_unlocked\u001b[0m\n",
      "  File \u001b[1;32m\"<frozen importlib._bootstrap>\"\u001b[0m, line \u001b[1;32m665\u001b[0m, in \u001b[1;35m_load_unlocked\u001b[0m\n",
      "  File \u001b[1;32m\"<frozen importlib._bootstrap_external>\"\u001b[0m, line \u001b[1;32m678\u001b[0m, in \u001b[1;35mexec_module\u001b[0m\n",
      "  File \u001b[1;32m\"<frozen importlib._bootstrap>\"\u001b[0m, line \u001b[1;32m219\u001b[0m, in \u001b[1;35m_call_with_frames_removed\u001b[0m\n",
      "\u001b[0;36m  File \u001b[0;32m\"/Library/Frameworks/Python.framework/Versions/3.6/lib/python3.6/site-packages/eralchemy_magic/__init__.py\"\u001b[0;36m, line \u001b[0;32m4\u001b[0;36m, in \u001b[0;35m<module>\u001b[0;36m\u001b[0m\n\u001b[0;31m    from .eralchemy import EralchemyMagic\u001b[0m\n",
      "\u001b[0;36m  File \u001b[0;32m\"/Library/Frameworks/Python.framework/Versions/3.6/lib/python3.6/site-packages/eralchemy_magic/eralchemy.py\"\u001b[0;36m, line \u001b[0;32m33\u001b[0m\n\u001b[0;31m    :\u001b[0m\n\u001b[0m    ^\u001b[0m\n\u001b[0;31mSyntaxError\u001b[0m\u001b[0;31m:\u001b[0m invalid syntax\n"
     ]
    }
   ],
   "source": [
    "%load_ext sql\n",
    "%load_ext eralchemy_magic"
   ]
  },
  {
   "cell_type": "code",
   "execution_count": 2,
   "metadata": {},
   "outputs": [
    {
     "name": "stdout",
     "output_type": "stream",
     "text": [
      "Done.\n",
      "Done.\n",
      "Done.\n",
      "Done.\n",
      "Done.\n",
      "Done.\n",
      "Done.\n",
      "Done.\n"
     ]
    },
    {
     "data": {
      "text/plain": [
       "[]"
      ]
     },
     "execution_count": 2,
     "metadata": {},
     "output_type": "execute_result"
    }
   ],
   "source": [
    "%%sql sqlite:///amagicdemo.db\n",
    "DROP TABLE IF EXISTS \"table1\";\n",
    "DROP TABLE IF EXISTS \"table2\";\n",
    "DROP TABLE IF EXISTS \"table3\";\n",
    "DROP TABLE IF EXISTS \"table4\";\n",
    "\n",
    "CREATE TABLE \"table1\" (\n",
    "  \"col1\" TEXT NOT NULL UNIQUE PRIMARY KEY,\n",
    "  \"col2\" INTEGER,\n",
    "  \"col3\" TEXT);\n",
    "\n",
    "CREATE TABLE \"table2\" (\n",
    "  \"col1\" TEXT,\n",
    "  \"col2\" INTEGER NOT NULL UNIQUE PRIMARY KEY,\n",
    "  \"col3\" TEXT,\n",
    "  FOREIGN KEY (\"col1\") REFERENCES \"table1\" (\"col1\"));\n",
    "\n",
    "CREATE TABLE \"table3\" (\n",
    "  \"col1\" TEXT,\n",
    "  \"col2\" INTEGER NOT NULL,\n",
    "  \"col3\" TEXT NOT NULL UNIQUE PRIMARY KEY,\n",
    "  FOREIGN KEY (\"col2\") REFERENCES \"table1\" (\"col2\"));\n",
    "\n",
    "CREATE TABLE \"table4\" (\n",
    "  \"col1\" TEXT,\n",
    "  \"col2\" INTEGER,\n",
    "  \"col3\" TEXT NOT NULL UNIQUE PRIMARY KEY,\n",
    "  FOREIGN KEY (\"col1\") REFERENCES \"table2\" (\"col1\"),\n",
    "  FOREIGN KEY (\"col3\") REFERENCES \"table1\" (\"col3\"));"
   ]
  },
  {
   "cell_type": "code",
   "execution_count": 1,
   "metadata": {},
   "outputs": [],
   "source": [
    "from eralchemy import render_er\n",
    "from IPython.display import Image , SVG\n"
   ]
  },
  {
   "cell_type": "code",
   "execution_count": 4,
   "metadata": {},
   "outputs": [
    {
     "data": {
      "image/svg+xml": [
       "<?xml version=\"1.0\" encoding=\"UTF-8\" standalone=\"no\"?>\n",
       "<!DOCTYPE svg PUBLIC \"-//W3C//DTD SVG 1.1//EN\"\n",
       " \"http://www.w3.org/Graphics/SVG/1.1/DTD/svg11.dtd\">\n",
       "<!-- Generated by graphviz version 2.40.1 (20161225.0304)\n",
       " -->\n",
       "<!-- Title: %3 Pages: 1 -->\n",
       "<svg width=\"481pt\" height=\"280pt\"\n",
       " viewBox=\"0.00 0.00 481.00 280.00\" xmlns=\"http://www.w3.org/2000/svg\" xmlns:xlink=\"http://www.w3.org/1999/xlink\">\n",
       "<g id=\"graph0\" class=\"graph\" transform=\"scale(1 1) rotate(0) translate(4 276)\">\n",
       "<title>%3</title>\n",
       "<polygon fill=\"#ffffff\" stroke=\"transparent\" points=\"-4,4 -4,-276 477,-276 477,4 -4,4\"/>\n",
       "<!-- table1 -->\n",
       "<g id=\"node1\" class=\"node\">\n",
       "<title>table1</title>\n",
       "<polygon fill=\"none\" stroke=\"#000000\" points=\".5,-130 .5,-156 109.5,-156 109.5,-130 .5,-130\"/>\n",
       "<text text-anchor=\"start\" x=\"33.2031\" y=\"-139.2\" font-family=\"Helvetica,sans-Serif\" font-weight=\"bold\" font-size=\"16.00\" fill=\"#000000\">table1</text>\n",
       "<polygon fill=\"none\" stroke=\"#000000\" points=\".5,-106 .5,-130 109.5,-130 109.5,-106 .5,-106\"/>\n",
       "<text text-anchor=\"start\" x=\"5.5\" y=\"-114.8\" font-family=\"Helvetica,sans-Serif\" text-decoration=\"underline\" font-size=\"14.00\" fill=\"#000000\">col1</text>\n",
       "<text text-anchor=\"start\" x=\"31.1826\" y=\"-114.8\" font-family=\"Helvetica,sans-Serif\" font-size=\"14.00\" fill=\"#000000\"> [TEXT]</text>\n",
       "<polygon fill=\"none\" stroke=\"#000000\" points=\".5,-82 .5,-106 109.5,-106 109.5,-82 .5,-82\"/>\n",
       "<text text-anchor=\"start\" x=\"5.2104\" y=\"-90.8\" font-family=\"Helvetica,sans-Serif\" font-size=\"14.00\" fill=\"#000000\">col2</text>\n",
       "<text text-anchor=\"start\" x=\"30.8931\" y=\"-90.8\" font-family=\"Helvetica,sans-Serif\" font-size=\"14.00\" fill=\"#000000\"> [INTEGER]</text>\n",
       "<polygon fill=\"none\" stroke=\"#000000\" points=\".5,-58 .5,-82 109.5,-82 109.5,-58 .5,-58\"/>\n",
       "<text text-anchor=\"start\" x=\"5.5\" y=\"-66.8\" font-family=\"Helvetica,sans-Serif\" font-size=\"14.00\" fill=\"#000000\">col3</text>\n",
       "<text text-anchor=\"start\" x=\"31.1826\" y=\"-66.8\" font-family=\"Helvetica,sans-Serif\" font-size=\"14.00\" fill=\"#000000\"> [TEXT]</text>\n",
       "</g>\n",
       "<!-- table2 -->\n",
       "<g id=\"node2\" class=\"node\">\n",
       "<title>table2</title>\n",
       "<polygon fill=\"none\" stroke=\"#000000\" points=\"182.5,-246 182.5,-272 291.5,-272 291.5,-246 182.5,-246\"/>\n",
       "<text text-anchor=\"start\" x=\"215.2031\" y=\"-255.2\" font-family=\"Helvetica,sans-Serif\" font-weight=\"bold\" font-size=\"16.00\" fill=\"#000000\">table2</text>\n",
       "<polygon fill=\"none\" stroke=\"#000000\" points=\"182.5,-222 182.5,-246 291.5,-246 291.5,-222 182.5,-222\"/>\n",
       "<text text-anchor=\"start\" x=\"187.5\" y=\"-230.8\" font-family=\"Helvetica,sans-Serif\" font-size=\"14.00\" fill=\"#000000\">col1</text>\n",
       "<text text-anchor=\"start\" x=\"213.1826\" y=\"-230.8\" font-family=\"Helvetica,sans-Serif\" font-size=\"14.00\" fill=\"#000000\"> [TEXT]</text>\n",
       "<polygon fill=\"none\" stroke=\"#000000\" points=\"182.5,-198 182.5,-222 291.5,-222 291.5,-198 182.5,-198\"/>\n",
       "<text text-anchor=\"start\" x=\"187.2104\" y=\"-206.8\" font-family=\"Helvetica,sans-Serif\" text-decoration=\"underline\" font-size=\"14.00\" fill=\"#000000\">col2</text>\n",
       "<text text-anchor=\"start\" x=\"212.8931\" y=\"-206.8\" font-family=\"Helvetica,sans-Serif\" font-size=\"14.00\" fill=\"#000000\"> [INTEGER]</text>\n",
       "<polygon fill=\"none\" stroke=\"#000000\" points=\"182.5,-174 182.5,-198 291.5,-198 291.5,-174 182.5,-174\"/>\n",
       "<text text-anchor=\"start\" x=\"187.5\" y=\"-182.8\" font-family=\"Helvetica,sans-Serif\" font-size=\"14.00\" fill=\"#000000\">col3</text>\n",
       "<text text-anchor=\"start\" x=\"213.1826\" y=\"-182.8\" font-family=\"Helvetica,sans-Serif\" font-size=\"14.00\" fill=\"#000000\"> [TEXT]</text>\n",
       "</g>\n",
       "<!-- table1&#45;&gt;table2 -->\n",
       "<g id=\"edge1\" class=\"edge\">\n",
       "<title>table1&#45;&gt;table2</title>\n",
       "<path fill=\"none\" stroke=\"#7f7f7f\" d=\"M55,-169.1944C55,-169.1944 55,-223 55,-223 55,-223 163.5515,-223 163.5515,-223\"/>\n",
       "<polygon fill=\"#7f7f7f\" stroke=\"#7f7f7f\" points=\"50,-157.1945 60,-157.1944 60,-159.1944 50,-159.1945 50,-157.1945\"/>\n",
       "<polyline fill=\"none\" stroke=\"#7f7f7f\" points=\"55,-156.1944 55,-161.1944 \"/>\n",
       "<ellipse fill=\"none\" stroke=\"#7f7f7f\" cx=\"55.0001\" cy=\"-165.1944\" rx=\"4\" ry=\"4\"/>\n",
       "<polygon fill=\"#7f7f7f\" stroke=\"#7f7f7f\" points=\"171.5515,-223.0001 181.5515,-227.5 176.5515,-223 181.5515,-223 181.5515,-223 181.5515,-223 176.5515,-223 181.5514,-218.5 171.5515,-223.0001 171.5515,-223.0001\"/>\n",
       "<ellipse fill=\"none\" stroke=\"#7f7f7f\" cx=\"167.5515\" cy=\"-223.0001\" rx=\"4\" ry=\"4\"/>\n",
       "</g>\n",
       "<!-- table3 -->\n",
       "<g id=\"node3\" class=\"node\">\n",
       "<title>table3</title>\n",
       "<polygon fill=\"none\" stroke=\"#000000\" points=\"182.5,-130 182.5,-156 291.5,-156 291.5,-130 182.5,-130\"/>\n",
       "<text text-anchor=\"start\" x=\"215.2031\" y=\"-139.2\" font-family=\"Helvetica,sans-Serif\" font-weight=\"bold\" font-size=\"16.00\" fill=\"#000000\">table3</text>\n",
       "<polygon fill=\"none\" stroke=\"#000000\" points=\"182.5,-106 182.5,-130 291.5,-130 291.5,-106 182.5,-106\"/>\n",
       "<text text-anchor=\"start\" x=\"187.5\" y=\"-114.8\" font-family=\"Helvetica,sans-Serif\" font-size=\"14.00\" fill=\"#000000\">col1</text>\n",
       "<text text-anchor=\"start\" x=\"213.1826\" y=\"-114.8\" font-family=\"Helvetica,sans-Serif\" font-size=\"14.00\" fill=\"#000000\"> [TEXT]</text>\n",
       "<polygon fill=\"none\" stroke=\"#000000\" points=\"182.5,-82 182.5,-106 291.5,-106 291.5,-82 182.5,-82\"/>\n",
       "<text text-anchor=\"start\" x=\"187.2104\" y=\"-90.8\" font-family=\"Helvetica,sans-Serif\" font-size=\"14.00\" fill=\"#000000\">col2</text>\n",
       "<text text-anchor=\"start\" x=\"212.8931\" y=\"-90.8\" font-family=\"Helvetica,sans-Serif\" font-size=\"14.00\" fill=\"#000000\"> [INTEGER]</text>\n",
       "<polygon fill=\"none\" stroke=\"#000000\" points=\"182.5,-58 182.5,-82 291.5,-82 291.5,-58 182.5,-58\"/>\n",
       "<text text-anchor=\"start\" x=\"187.5\" y=\"-66.8\" font-family=\"Helvetica,sans-Serif\" text-decoration=\"underline\" font-size=\"14.00\" fill=\"#000000\">col3</text>\n",
       "<text text-anchor=\"start\" x=\"213.1826\" y=\"-66.8\" font-family=\"Helvetica,sans-Serif\" font-size=\"14.00\" fill=\"#000000\"> [TEXT]</text>\n",
       "</g>\n",
       "<!-- table1&#45;&gt;table3 -->\n",
       "<g id=\"edge2\" class=\"edge\">\n",
       "<title>table1&#45;&gt;table3</title>\n",
       "<path fill=\"none\" stroke=\"#7f7f7f\" d=\"M122.106,-107C122.106,-107 163.9325,-107 163.9325,-107\"/>\n",
       "<polygon fill=\"#7f7f7f\" stroke=\"#7f7f7f\" points=\"180.9325,-102 180.9325,-112 178.9325,-112 178.9325,-102 180.9325,-102\"/>\n",
       "<polyline fill=\"none\" stroke=\"#7f7f7f\" points=\"181.9325,-107 176.9325,-107 \"/>\n",
       "<ellipse fill=\"none\" stroke=\"#7f7f7f\" cx=\"172.9325\" cy=\"-107\" rx=\"4\" ry=\"4\"/>\n",
       "<polygon fill=\"#7f7f7f\" stroke=\"#7f7f7f\" points=\"119.106,-107 109.106,-102.5 114.106,-107 109.106,-107 109.106,-107 109.106,-107 114.106,-107 109.106,-111.5 119.106,-107 119.106,-107\"/>\n",
       "<ellipse fill=\"none\" stroke=\"#7f7f7f\" cx=\"123.106\" cy=\"-107\" rx=\"4\" ry=\"4\"/>\n",
       "</g>\n",
       "<!-- table4 -->\n",
       "<g id=\"node4\" class=\"node\">\n",
       "<title>table4</title>\n",
       "<polygon fill=\"none\" stroke=\"#000000\" points=\"364.5,-72 364.5,-98 473.5,-98 473.5,-72 364.5,-72\"/>\n",
       "<text text-anchor=\"start\" x=\"397.2031\" y=\"-81.2\" font-family=\"Helvetica,sans-Serif\" font-weight=\"bold\" font-size=\"16.00\" fill=\"#000000\">table4</text>\n",
       "<polygon fill=\"none\" stroke=\"#000000\" points=\"364.5,-48 364.5,-72 473.5,-72 473.5,-48 364.5,-48\"/>\n",
       "<text text-anchor=\"start\" x=\"369.5\" y=\"-56.8\" font-family=\"Helvetica,sans-Serif\" font-size=\"14.00\" fill=\"#000000\">col1</text>\n",
       "<text text-anchor=\"start\" x=\"395.1826\" y=\"-56.8\" font-family=\"Helvetica,sans-Serif\" font-size=\"14.00\" fill=\"#000000\"> [TEXT]</text>\n",
       "<polygon fill=\"none\" stroke=\"#000000\" points=\"364.5,-24 364.5,-48 473.5,-48 473.5,-24 364.5,-24\"/>\n",
       "<text text-anchor=\"start\" x=\"369.2104\" y=\"-32.8\" font-family=\"Helvetica,sans-Serif\" font-size=\"14.00\" fill=\"#000000\">col2</text>\n",
       "<text text-anchor=\"start\" x=\"394.8931\" y=\"-32.8\" font-family=\"Helvetica,sans-Serif\" font-size=\"14.00\" fill=\"#000000\"> [INTEGER]</text>\n",
       "<polygon fill=\"none\" stroke=\"#000000\" points=\"364.5,0 364.5,-24 473.5,-24 473.5,0 364.5,0\"/>\n",
       "<text text-anchor=\"start\" x=\"369.5\" y=\"-8.8\" font-family=\"Helvetica,sans-Serif\" text-decoration=\"underline\" font-size=\"14.00\" fill=\"#000000\">col3</text>\n",
       "<text text-anchor=\"start\" x=\"395.1826\" y=\"-8.8\" font-family=\"Helvetica,sans-Serif\" font-size=\"14.00\" fill=\"#000000\"> [TEXT]</text>\n",
       "</g>\n",
       "<!-- table1&#45;&gt;table4 -->\n",
       "<g id=\"edge3\" class=\"edge\">\n",
       "<title>table1&#45;&gt;table4</title>\n",
       "<path fill=\"none\" stroke=\"#7f7f7f\" d=\"M55,-44.6014C55,-44.6014 55,-29 55,-29 55,-29 345.6868,-29 345.6868,-29\"/>\n",
       "<polygon fill=\"#7f7f7f\" stroke=\"#7f7f7f\" points=\"60,-56.6015 50,-56.6014 50,-54.6014 60,-54.6015 60,-56.6015\"/>\n",
       "<polyline fill=\"none\" stroke=\"#7f7f7f\" points=\"55,-57.6014 55,-52.6014 \"/>\n",
       "<ellipse fill=\"none\" stroke=\"#7f7f7f\" cx=\"55.0001\" cy=\"-48.6014\" rx=\"4\" ry=\"4\"/>\n",
       "<polygon fill=\"#7f7f7f\" stroke=\"#7f7f7f\" points=\"353.6868,-29.0001 363.6868,-33.5 358.6868,-29 363.6868,-29 363.6868,-29 363.6868,-29 358.6868,-29 363.6868,-24.5 353.6868,-29.0001 353.6868,-29.0001\"/>\n",
       "<ellipse fill=\"none\" stroke=\"#7f7f7f\" cx=\"349.6868\" cy=\"-29.0001\" rx=\"4\" ry=\"4\"/>\n",
       "</g>\n",
       "<!-- table2&#45;&gt;table4 -->\n",
       "<g id=\"edge4\" class=\"edge\">\n",
       "<title>table2&#45;&gt;table4</title>\n",
       "<path fill=\"none\" stroke=\"#7f7f7f\" d=\"M304.256,-223C304.256,-223 419,-223 419,-223 419,-223 419,-116.396 419,-116.396\"/>\n",
       "<polygon fill=\"#7f7f7f\" stroke=\"#7f7f7f\" points=\"292.256,-228 292.2561,-218 294.2561,-218 294.256,-228 292.256,-228\"/>\n",
       "<polyline fill=\"none\" stroke=\"#7f7f7f\" points=\"291.256,-223 296.256,-223 \"/>\n",
       "<ellipse fill=\"none\" stroke=\"#7f7f7f\" cx=\"300.256\" cy=\"-223.0001\" rx=\"4\" ry=\"4\"/>\n",
       "<polygon fill=\"#7f7f7f\" stroke=\"#7f7f7f\" points=\"419.0001,-108.396 423.5,-98.396 419,-103.396 419,-98.396 419,-98.396 419,-98.396 419,-103.396 414.5,-98.396 419.0001,-108.396 419.0001,-108.396\"/>\n",
       "<ellipse fill=\"none\" stroke=\"#7f7f7f\" cx=\"419.0001\" cy=\"-112.396\" rx=\"4\" ry=\"4\"/>\n",
       "</g>\n",
       "</g>\n",
       "</svg>\n"
      ],
      "text/plain": [
       "<graphviz.files.Source at 0x109235b38>"
      ]
     },
     "execution_count": 4,
     "metadata": {},
     "output_type": "execute_result"
    }
   ],
   "source": [
    "%erd --connection_string sqlite:///amagicdemo.db -x table"
   ]
  },
  {
   "cell_type": "code",
   "execution_count": 3,
   "metadata": {},
   "outputs": [
    {
     "data": {
      "image/svg+xml": [
       "<?xml version=\"1.0\" encoding=\"UTF-8\" standalone=\"no\"?>\n",
       "<!DOCTYPE svg PUBLIC \"-//W3C//DTD SVG 1.1//EN\"\n",
       " \"http://www.w3.org/Graphics/SVG/1.1/DTD/svg11.dtd\">\n",
       "<!-- Generated by graphviz version 2.40.1 (20161225.0304)\n",
       " -->\n",
       "<!-- Title: %3 Pages: 1 -->\n",
       "<svg width=\"299pt\" height=\"222pt\"\n",
       " viewBox=\"0.00 0.00 299.00 222.00\" xmlns=\"http://www.w3.org/2000/svg\" xmlns:xlink=\"http://www.w3.org/1999/xlink\">\n",
       "<g id=\"graph0\" class=\"graph\" transform=\"scale(1 1) rotate(0) translate(4 218)\">\n",
       "<title>%3</title>\n",
       "<polygon fill=\"#ffffff\" stroke=\"transparent\" points=\"-4,4 -4,-218 295,-218 295,4 -4,4\"/>\n",
       "<!-- table1 -->\n",
       "<g id=\"node1\" class=\"node\">\n",
       "<title>table1</title>\n",
       "<polygon fill=\"none\" stroke=\"#000000\" points=\".5,-130 .5,-156 109.5,-156 109.5,-130 .5,-130\"/>\n",
       "<text text-anchor=\"start\" x=\"33.2031\" y=\"-139.2\" font-family=\"Helvetica,sans-Serif\" font-weight=\"bold\" font-size=\"16.00\" fill=\"#000000\">table1</text>\n",
       "<polygon fill=\"none\" stroke=\"#000000\" points=\".5,-106 .5,-130 109.5,-130 109.5,-106 .5,-106\"/>\n",
       "<text text-anchor=\"start\" x=\"5.5\" y=\"-114.8\" font-family=\"Helvetica,sans-Serif\" text-decoration=\"underline\" font-size=\"14.00\" fill=\"#000000\">col1</text>\n",
       "<text text-anchor=\"start\" x=\"31.1826\" y=\"-114.8\" font-family=\"Helvetica,sans-Serif\" font-size=\"14.00\" fill=\"#000000\"> [TEXT]</text>\n",
       "<polygon fill=\"none\" stroke=\"#000000\" points=\".5,-82 .5,-106 109.5,-106 109.5,-82 .5,-82\"/>\n",
       "<text text-anchor=\"start\" x=\"5.2104\" y=\"-90.8\" font-family=\"Helvetica,sans-Serif\" font-size=\"14.00\" fill=\"#000000\">col2</text>\n",
       "<text text-anchor=\"start\" x=\"30.8931\" y=\"-90.8\" font-family=\"Helvetica,sans-Serif\" font-size=\"14.00\" fill=\"#000000\"> [INTEGER]</text>\n",
       "<polygon fill=\"none\" stroke=\"#000000\" points=\".5,-58 .5,-82 109.5,-82 109.5,-58 .5,-58\"/>\n",
       "<text text-anchor=\"start\" x=\"5.5\" y=\"-66.8\" font-family=\"Helvetica,sans-Serif\" font-size=\"14.00\" fill=\"#000000\">col3</text>\n",
       "<text text-anchor=\"start\" x=\"31.1826\" y=\"-66.8\" font-family=\"Helvetica,sans-Serif\" font-size=\"14.00\" fill=\"#000000\"> [TEXT]</text>\n",
       "</g>\n",
       "<!-- table3 -->\n",
       "<g id=\"node2\" class=\"node\">\n",
       "<title>table3</title>\n",
       "<polygon fill=\"none\" stroke=\"#000000\" points=\"182.5,-188 182.5,-214 291.5,-214 291.5,-188 182.5,-188\"/>\n",
       "<text text-anchor=\"start\" x=\"215.2031\" y=\"-197.2\" font-family=\"Helvetica,sans-Serif\" font-weight=\"bold\" font-size=\"16.00\" fill=\"#000000\">table3</text>\n",
       "<polygon fill=\"none\" stroke=\"#000000\" points=\"182.5,-164 182.5,-188 291.5,-188 291.5,-164 182.5,-164\"/>\n",
       "<text text-anchor=\"start\" x=\"187.5\" y=\"-172.8\" font-family=\"Helvetica,sans-Serif\" font-size=\"14.00\" fill=\"#000000\">col1</text>\n",
       "<text text-anchor=\"start\" x=\"213.1826\" y=\"-172.8\" font-family=\"Helvetica,sans-Serif\" font-size=\"14.00\" fill=\"#000000\"> [TEXT]</text>\n",
       "<polygon fill=\"none\" stroke=\"#000000\" points=\"182.5,-140 182.5,-164 291.5,-164 291.5,-140 182.5,-140\"/>\n",
       "<text text-anchor=\"start\" x=\"187.2104\" y=\"-148.8\" font-family=\"Helvetica,sans-Serif\" font-size=\"14.00\" fill=\"#000000\">col2</text>\n",
       "<text text-anchor=\"start\" x=\"212.8931\" y=\"-148.8\" font-family=\"Helvetica,sans-Serif\" font-size=\"14.00\" fill=\"#000000\"> [INTEGER]</text>\n",
       "<polygon fill=\"none\" stroke=\"#000000\" points=\"182.5,-116 182.5,-140 291.5,-140 291.5,-116 182.5,-116\"/>\n",
       "<text text-anchor=\"start\" x=\"187.5\" y=\"-124.8\" font-family=\"Helvetica,sans-Serif\" text-decoration=\"underline\" font-size=\"14.00\" fill=\"#000000\">col3</text>\n",
       "<text text-anchor=\"start\" x=\"213.1826\" y=\"-124.8\" font-family=\"Helvetica,sans-Serif\" font-size=\"14.00\" fill=\"#000000\"> [TEXT]</text>\n",
       "</g>\n",
       "<!-- table1&#45;&gt;table3 -->\n",
       "<g id=\"edge1\" class=\"edge\">\n",
       "<title>table1&#45;&gt;table3</title>\n",
       "<path fill=\"none\" stroke=\"#7f7f7f\" d=\"M122.106,-136C122.106,-136 163.9325,-136 163.9325,-136\"/>\n",
       "<polygon fill=\"#7f7f7f\" stroke=\"#7f7f7f\" points=\"180.9325,-131 180.9325,-141 178.9325,-141 178.9325,-131 180.9325,-131\"/>\n",
       "<polyline fill=\"none\" stroke=\"#7f7f7f\" points=\"181.9325,-136 176.9325,-136 \"/>\n",
       "<ellipse fill=\"none\" stroke=\"#7f7f7f\" cx=\"172.9325\" cy=\"-136\" rx=\"4\" ry=\"4\"/>\n",
       "<polygon fill=\"#7f7f7f\" stroke=\"#7f7f7f\" points=\"119.106,-136 109.106,-131.5 114.106,-136 109.106,-136 109.106,-136 109.106,-136 114.106,-136 109.106,-140.5 119.106,-136 119.106,-136\"/>\n",
       "<ellipse fill=\"none\" stroke=\"#7f7f7f\" cx=\"123.106\" cy=\"-136\" rx=\"4\" ry=\"4\"/>\n",
       "</g>\n",
       "<!-- table4 -->\n",
       "<g id=\"node3\" class=\"node\">\n",
       "<title>table4</title>\n",
       "<polygon fill=\"none\" stroke=\"#000000\" points=\"182.5,-72 182.5,-98 291.5,-98 291.5,-72 182.5,-72\"/>\n",
       "<text text-anchor=\"start\" x=\"215.2031\" y=\"-81.2\" font-family=\"Helvetica,sans-Serif\" font-weight=\"bold\" font-size=\"16.00\" fill=\"#000000\">table4</text>\n",
       "<polygon fill=\"none\" stroke=\"#000000\" points=\"182.5,-48 182.5,-72 291.5,-72 291.5,-48 182.5,-48\"/>\n",
       "<text text-anchor=\"start\" x=\"187.5\" y=\"-56.8\" font-family=\"Helvetica,sans-Serif\" font-size=\"14.00\" fill=\"#000000\">col1</text>\n",
       "<text text-anchor=\"start\" x=\"213.1826\" y=\"-56.8\" font-family=\"Helvetica,sans-Serif\" font-size=\"14.00\" fill=\"#000000\"> [TEXT]</text>\n",
       "<polygon fill=\"none\" stroke=\"#000000\" points=\"182.5,-24 182.5,-48 291.5,-48 291.5,-24 182.5,-24\"/>\n",
       "<text text-anchor=\"start\" x=\"187.2104\" y=\"-32.8\" font-family=\"Helvetica,sans-Serif\" font-size=\"14.00\" fill=\"#000000\">col2</text>\n",
       "<text text-anchor=\"start\" x=\"212.8931\" y=\"-32.8\" font-family=\"Helvetica,sans-Serif\" font-size=\"14.00\" fill=\"#000000\"> [INTEGER]</text>\n",
       "<polygon fill=\"none\" stroke=\"#000000\" points=\"182.5,0 182.5,-24 291.5,-24 291.5,0 182.5,0\"/>\n",
       "<text text-anchor=\"start\" x=\"187.5\" y=\"-8.8\" font-family=\"Helvetica,sans-Serif\" text-decoration=\"underline\" font-size=\"14.00\" fill=\"#000000\">col3</text>\n",
       "<text text-anchor=\"start\" x=\"213.1826\" y=\"-8.8\" font-family=\"Helvetica,sans-Serif\" font-size=\"14.00\" fill=\"#000000\"> [TEXT]</text>\n",
       "</g>\n",
       "<!-- table1&#45;&gt;table4 -->\n",
       "<g id=\"edge2\" class=\"edge\">\n",
       "<title>table1&#45;&gt;table4</title>\n",
       "<path fill=\"none\" stroke=\"#7f7f7f\" d=\"M122.106,-78C122.106,-78 163.9325,-78 163.9325,-78\"/>\n",
       "<polygon fill=\"#7f7f7f\" stroke=\"#7f7f7f\" points=\"180.9325,-73 180.9325,-83 178.9325,-83 178.9325,-73 180.9325,-73\"/>\n",
       "<polyline fill=\"none\" stroke=\"#7f7f7f\" points=\"181.9325,-78 176.9325,-78 \"/>\n",
       "<ellipse fill=\"none\" stroke=\"#7f7f7f\" cx=\"172.9325\" cy=\"-78\" rx=\"4\" ry=\"4\"/>\n",
       "<polygon fill=\"#7f7f7f\" stroke=\"#7f7f7f\" points=\"119.106,-78 109.106,-73.5 114.106,-78 109.106,-78 109.106,-78 109.106,-78 114.106,-78 109.106,-82.5 119.106,-78 119.106,-78\"/>\n",
       "<ellipse fill=\"none\" stroke=\"#7f7f7f\" cx=\"123.106\" cy=\"-78\" rx=\"4\" ry=\"4\"/>\n",
       "</g>\n",
       "</g>\n",
       "</svg>\n"
      ],
      "text/plain": [
       "<graphviz.files.Source at 0x1090af8d0>"
      ]
     },
     "execution_count": 3,
     "metadata": {},
     "output_type": "execute_result"
    }
   ],
   "source": [
    "%erd --connection_string sqlite:///amagicdemo.db -x table2"
   ]
  },
  {
   "cell_type": "markdown",
   "metadata": {},
   "source": [
    "I don't think entity relationship cardinalities are correctly mapped in `eralchemy`. The setting seems hardwired based purely on the existence of a foreign key relationship ([issue](https://github.com/Alexis-benoist/eralchemy/blob/40c9b9c8199e9740695931d48a6f90f9846fd5d8/eralchemy/sqla.py)).\n",
    "\n",
    "One for the \"to do\" list...\n",
    "\n",
    "There also look to be indesired line breaks in the rendering - not sure how to fix those?"
   ]
  }
 ],
 "metadata": {
  "kernelspec": {
   "display_name": "Python 3",
   "language": "python",
   "name": "python3"
  },
  "language_info": {
   "codemirror_mode": {
    "name": "ipython",
    "version": 3
   },
   "file_extension": ".py",
   "mimetype": "text/x-python",
   "name": "python",
   "nbconvert_exporter": "python",
   "pygments_lexer": "ipython3",
   "version": "3.6.4"
  }
 },
 "nbformat": 4,
 "nbformat_minor": 2
}
